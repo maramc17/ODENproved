{
 "cells": [
  {
   "cell_type": "code",
   "execution_count": 2,
   "outputs": [
    {
     "name": "stdout",
     "output_type": "stream",
     "text": [
      "[PhysicalDevice(name='/physical_device:GPU:0', device_type='GPU')]\n"
     ]
    }
   ],
   "source": [
    "import tensorflow as tf\n",
    "print(tf.config.list_physical_devices('GPU'))\n"
   ],
   "metadata": {
    "collapsed": false,
    "pycharm": {
     "name": "#%%\n"
    }
   }
  },
  {
   "cell_type": "code",
   "execution_count": 6,
   "outputs": [
    {
     "name": "stdout",
     "output_type": "stream",
     "text": [
      "Model: \"model_2\"\n",
      "_________________________________________________________________\n",
      " Layer (type)                Output Shape              Param #   \n",
      "=================================================================\n",
      " input_4 (InputLayer)        [(None, 1)]               0         \n",
      "                                                                 \n",
      " dense_4 (Dense)             (None, 16)                32        \n",
      "                                                                 \n",
      " dense_5 (Dense)             (None, 1)                 17        \n",
      "                                                                 \n",
      "=================================================================\n",
      "Total params: 49\n",
      "Trainable params: 49\n",
      "Non-trainable params: 0\n",
      "_________________________________________________________________\n"
     ]
    }
   ],
   "source": [
    "\"\"\"\n",
    "Builds a customized neural network model.\n",
    "\"\"\"\n",
    "architectures = [16]\n",
    "initializer = \"GlorotNormal\"\n",
    "activation = \"sigmoid\"\n",
    "\n",
    "hidden_layers_len = len(architectures)\n",
    "input_tensor = tf.keras.layers.Input(shape=(1,))\n",
    "zeroes = tf.zeros(shape=(10,1))\n",
    "hidden_layers = []\n",
    "\n",
    "if hidden_layers_len >= 1:\n",
    "    hidden_layer = tf.keras.layers.Dense(architectures[0], kernel_initializer=initializer,\n",
    "                                         bias_initializer='zeros', activation=activation)(input_tensor)\n",
    "    hidden_layers.append(hidden_layer)\n",
    "    for architecture in zip(architectures[1:]):\n",
    "        hidden_layer = tf.keras.layers.Dense(architecture, kernel_initializer=initializer,\n",
    "                                             bias_initializer='zeros', activation=activation)(zeroes)\n",
    "        hidden_layers.append(hidden_layer)\n",
    "\n",
    "    output_layer = tf.keras.layers.Dense(1, kernel_initializer=initializer, bias_initializer='zeros',\n",
    "                                         activation=tf.identity)(hidden_layers[-1])\n",
    "else:\n",
    "    output_layer = tf.keras.layers.Dense(1, kernel_initializer=initializer, bias_initializer='zeros',\n",
    "                                         activation=tf.identity)(input_tensor)\n",
    "\n",
    "model = tf.keras.Model(inputs=input_tensor, outputs=output_layer)\n",
    "model.summary()"
   ],
   "metadata": {
    "collapsed": false,
    "pycharm": {
     "name": "#%%\n"
    }
   }
  },
  {
   "cell_type": "code",
   "execution_count": 41,
   "outputs": [
    {
     "name": "stdout",
     "output_type": "stream",
     "text": [
      "Model: \"sequential_32\"\n",
      "_________________________________________________________________\n",
      " Layer (type)                Output Shape              Param #   \n",
      "=================================================================\n",
      " dense_28 (Dense)            (None, 16)                32        \n",
      "                                                                 \n",
      " dense_29 (Dense)            (None, 1)                 17        \n",
      "                                                                 \n",
      "=================================================================\n",
      "Total params: 49\n",
      "Trainable params: 49\n",
      "Non-trainable params: 0\n",
      "_________________________________________________________________\n"
     ]
    }
   ],
   "source": [
    "def add_layer(layer):\n",
    "    model_new.add(layer)\n",
    "\n",
    "def build_input_layer():\n",
    "    input_layer = tf.keras.layers.InputLayer(input_shape=(1,))\n",
    "    add_layer(input_layer)\n",
    "\n",
    "def build_hidden_layer(nodes, activ_func=\"sigmoid\", kernel_init='glorot_uniform', bias_init='zeros'):\n",
    "    hidden_layer = tf.keras.layers.Dense(nodes,\n",
    "                                         activation=activ_func,\n",
    "                                         kernel_initializer=kernel_init,\n",
    "                                         bias_initializer=bias_init\n",
    "                                         )\n",
    "    add_layer(hidden_layer)\n",
    "\n",
    "def build_output_layer(model, nodes, activ_func=\"sigmoid\", kernel_init=\"glorot_uniform\"):\n",
    "    output_layer = tf.keras.layers.Dense(nodes, activation=activ_func, kernel_initializer=kernel_init)\n",
    "    add_layer(model,output_layer)\n",
    "\n",
    "\n",
    "\"\"\"\n",
    "Builds a customized neural network model_new.\n",
    "\"\"\"\n",
    "layers = [16]\n",
    "kernel_initializer = \"GlorotNormal\"\n",
    "activation = tf.nn.sigmoid\n",
    "model_new = tf.keras.Sequential()\n",
    "num_hlayers = len(layers)\n",
    "\n",
    "if num_hlayers >= 1:\n",
    "    \"\"\"\n",
    "    Build the input layer\n",
    "    \"\"\"\n",
    "    model_new.add(tf.keras.layers.Dense(1, input_shape=(1,)))\n",
    "    \"\"\"\n",
    "    Build the hidden nodes\n",
    "    \"\"\"\n",
    "    for nodes in layers:\n",
    "        model_new.add(tf.keras.layers.Dense(nodes,\n",
    "                                         activation=activation,\n",
    "                                         kernel_initializer=kernel_initializer\n",
    "                                         ))\n",
    "    \"\"\"\n",
    "    Build the output layer\n",
    "    \"\"\"\n",
    "    model_new.add(tf.keras.layers.Dense(1,\n",
    "                                 activation=activation,\n",
    "                                 kernel_initializer=kernel_initializer\n",
    "                                 ))\n",
    "else:\n",
    "    model_new.add(tf.keras.layers.Dense(1,\n",
    "                             activation=activation,\n",
    "                             kernel_initializer=kernel_initializer\n",
    "                             ))\n",
    "\n",
    "model_new.summary()\n"
   ],
   "metadata": {
    "collapsed": false,
    "pycharm": {
     "name": "#%%\n"
    }
   }
  },
  {
   "cell_type": "code",
   "execution_count": 20,
   "outputs": [],
   "source": [],
   "metadata": {
    "collapsed": false,
    "pycharm": {
     "name": "#%%\n"
    }
   }
  }
 ],
 "metadata": {
  "kernelspec": {
   "display_name": "Python 3",
   "language": "python",
   "name": "python3"
  },
  "language_info": {
   "codemirror_mode": {
    "name": "ipython",
    "version": 2
   },
   "file_extension": ".py",
   "mimetype": "text/x-python",
   "name": "python",
   "nbconvert_exporter": "python",
   "pygments_lexer": "ipython2",
   "version": "2.7.6"
  }
 },
 "nbformat": 4,
 "nbformat_minor": 0
}